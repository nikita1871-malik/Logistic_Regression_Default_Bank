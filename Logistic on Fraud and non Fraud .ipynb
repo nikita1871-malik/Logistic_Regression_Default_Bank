{
 "cells": [
  {
   "cell_type": "code",
   "execution_count": 2,
   "id": "2dd0c8e0",
   "metadata": {},
   "outputs": [],
   "source": [
    "import pandas as pd\n",
    "import numpy as np \n",
    "import matplotlib.pyplot as plt\n",
    "import seaborn as sns\n",
    "from sklearn import metrics\n",
    "from sklearn.linear_model import LogisticRegression\n",
    "from sklearn.model_selection import train_test_split\n"
   ]
  },
  {
   "cell_type": "code",
   "execution_count": 3,
   "id": "7dad1ed2",
   "metadata": {},
   "outputs": [],
   "source": [
    "train= pd.read_csv(r\"C:\\Users\\Nikita\\Downloads\\Train_RiskScore.csv\")"
   ]
  },
  {
   "cell_type": "code",
   "execution_count": 4,
   "id": "0d159c83",
   "metadata": {},
   "outputs": [
    {
     "data": {
      "text/html": [
       "<div>\n",
       "<style scoped>\n",
       "    .dataframe tbody tr th:only-of-type {\n",
       "        vertical-align: middle;\n",
       "    }\n",
       "\n",
       "    .dataframe tbody tr th {\n",
       "        vertical-align: top;\n",
       "    }\n",
       "\n",
       "    .dataframe thead th {\n",
       "        text-align: right;\n",
       "    }\n",
       "</style>\n",
       "<table border=\"1\" class=\"dataframe\">\n",
       "  <thead>\n",
       "    <tr style=\"text-align: right;\">\n",
       "      <th></th>\n",
       "      <th>ID</th>\n",
       "      <th>age</th>\n",
       "      <th>ed</th>\n",
       "      <th>employ</th>\n",
       "      <th>address</th>\n",
       "      <th>income</th>\n",
       "      <th>debtinc</th>\n",
       "      <th>creddebt</th>\n",
       "      <th>othdebt</th>\n",
       "      <th>default</th>\n",
       "    </tr>\n",
       "  </thead>\n",
       "  <tbody>\n",
       "    <tr>\n",
       "      <th>0</th>\n",
       "      <td>0</td>\n",
       "      <td>41</td>\n",
       "      <td>3</td>\n",
       "      <td>17</td>\n",
       "      <td>12</td>\n",
       "      <td>176</td>\n",
       "      <td>9.3</td>\n",
       "      <td>11.359392</td>\n",
       "      <td>5.008608</td>\n",
       "      <td>1</td>\n",
       "    </tr>\n",
       "    <tr>\n",
       "      <th>1</th>\n",
       "      <td>1</td>\n",
       "      <td>27</td>\n",
       "      <td>1</td>\n",
       "      <td>10</td>\n",
       "      <td>6</td>\n",
       "      <td>31</td>\n",
       "      <td>17.3</td>\n",
       "      <td>1.362202</td>\n",
       "      <td>4.000798</td>\n",
       "      <td>0</td>\n",
       "    </tr>\n",
       "    <tr>\n",
       "      <th>2</th>\n",
       "      <td>2</td>\n",
       "      <td>40</td>\n",
       "      <td>1</td>\n",
       "      <td>15</td>\n",
       "      <td>14</td>\n",
       "      <td>55</td>\n",
       "      <td>5.5</td>\n",
       "      <td>0.856075</td>\n",
       "      <td>2.168925</td>\n",
       "      <td>0</td>\n",
       "    </tr>\n",
       "    <tr>\n",
       "      <th>3</th>\n",
       "      <td>3</td>\n",
       "      <td>41</td>\n",
       "      <td>1</td>\n",
       "      <td>15</td>\n",
       "      <td>14</td>\n",
       "      <td>120</td>\n",
       "      <td>2.9</td>\n",
       "      <td>2.658720</td>\n",
       "      <td>0.821280</td>\n",
       "      <td>0</td>\n",
       "    </tr>\n",
       "    <tr>\n",
       "      <th>4</th>\n",
       "      <td>4</td>\n",
       "      <td>24</td>\n",
       "      <td>2</td>\n",
       "      <td>2</td>\n",
       "      <td>0</td>\n",
       "      <td>28</td>\n",
       "      <td>17.3</td>\n",
       "      <td>1.787436</td>\n",
       "      <td>3.056564</td>\n",
       "      <td>1</td>\n",
       "    </tr>\n",
       "    <tr>\n",
       "      <th>...</th>\n",
       "      <td>...</td>\n",
       "      <td>...</td>\n",
       "      <td>...</td>\n",
       "      <td>...</td>\n",
       "      <td>...</td>\n",
       "      <td>...</td>\n",
       "      <td>...</td>\n",
       "      <td>...</td>\n",
       "      <td>...</td>\n",
       "      <td>...</td>\n",
       "    </tr>\n",
       "    <tr>\n",
       "      <th>695</th>\n",
       "      <td>695</td>\n",
       "      <td>36</td>\n",
       "      <td>2</td>\n",
       "      <td>6</td>\n",
       "      <td>15</td>\n",
       "      <td>27</td>\n",
       "      <td>4.6</td>\n",
       "      <td>0.262062</td>\n",
       "      <td>0.979938</td>\n",
       "      <td>1</td>\n",
       "    </tr>\n",
       "    <tr>\n",
       "      <th>696</th>\n",
       "      <td>696</td>\n",
       "      <td>29</td>\n",
       "      <td>2</td>\n",
       "      <td>6</td>\n",
       "      <td>4</td>\n",
       "      <td>21</td>\n",
       "      <td>11.5</td>\n",
       "      <td>0.369495</td>\n",
       "      <td>2.045505</td>\n",
       "      <td>0</td>\n",
       "    </tr>\n",
       "    <tr>\n",
       "      <th>697</th>\n",
       "      <td>697</td>\n",
       "      <td>33</td>\n",
       "      <td>1</td>\n",
       "      <td>15</td>\n",
       "      <td>3</td>\n",
       "      <td>32</td>\n",
       "      <td>7.6</td>\n",
       "      <td>0.491264</td>\n",
       "      <td>1.940736</td>\n",
       "      <td>0</td>\n",
       "    </tr>\n",
       "    <tr>\n",
       "      <th>698</th>\n",
       "      <td>698</td>\n",
       "      <td>45</td>\n",
       "      <td>1</td>\n",
       "      <td>19</td>\n",
       "      <td>22</td>\n",
       "      <td>77</td>\n",
       "      <td>8.4</td>\n",
       "      <td>2.302608</td>\n",
       "      <td>4.165392</td>\n",
       "      <td>0</td>\n",
       "    </tr>\n",
       "    <tr>\n",
       "      <th>699</th>\n",
       "      <td>699</td>\n",
       "      <td>37</td>\n",
       "      <td>1</td>\n",
       "      <td>12</td>\n",
       "      <td>14</td>\n",
       "      <td>44</td>\n",
       "      <td>14.7</td>\n",
       "      <td>2.994684</td>\n",
       "      <td>3.473316</td>\n",
       "      <td>0</td>\n",
       "    </tr>\n",
       "  </tbody>\n",
       "</table>\n",
       "<p>700 rows × 10 columns</p>\n",
       "</div>"
      ],
      "text/plain": [
       "      ID  age  ed  employ  address  income  debtinc   creddebt   othdebt  \\\n",
       "0      0   41   3      17       12     176      9.3  11.359392  5.008608   \n",
       "1      1   27   1      10        6      31     17.3   1.362202  4.000798   \n",
       "2      2   40   1      15       14      55      5.5   0.856075  2.168925   \n",
       "3      3   41   1      15       14     120      2.9   2.658720  0.821280   \n",
       "4      4   24   2       2        0      28     17.3   1.787436  3.056564   \n",
       "..   ...  ...  ..     ...      ...     ...      ...        ...       ...   \n",
       "695  695   36   2       6       15      27      4.6   0.262062  0.979938   \n",
       "696  696   29   2       6        4      21     11.5   0.369495  2.045505   \n",
       "697  697   33   1      15        3      32      7.6   0.491264  1.940736   \n",
       "698  698   45   1      19       22      77      8.4   2.302608  4.165392   \n",
       "699  699   37   1      12       14      44     14.7   2.994684  3.473316   \n",
       "\n",
       "     default  \n",
       "0          1  \n",
       "1          0  \n",
       "2          0  \n",
       "3          0  \n",
       "4          1  \n",
       "..       ...  \n",
       "695        1  \n",
       "696        0  \n",
       "697        0  \n",
       "698        0  \n",
       "699        0  \n",
       "\n",
       "[700 rows x 10 columns]"
      ]
     },
     "execution_count": 4,
     "metadata": {},
     "output_type": "execute_result"
    }
   ],
   "source": [
    "train"
   ]
  },
  {
   "cell_type": "markdown",
   "id": "3ce3f2d2",
   "metadata": {},
   "source": [
    "#### to zoom in and zoom out use ctrl shift +or - accordingly "
   ]
  },
  {
   "cell_type": "code",
   "execution_count": 5,
   "id": "f463f176",
   "metadata": {},
   "outputs": [],
   "source": [
    "train.drop(['ID'], axis = 1, inplace = True) "
   ]
  },
  {
   "cell_type": "code",
   "execution_count": 6,
   "id": "500a51b4",
   "metadata": {},
   "outputs": [
    {
     "name": "stdout",
     "output_type": "stream",
     "text": [
      "<class 'pandas.core.frame.DataFrame'>\n",
      "RangeIndex: 700 entries, 0 to 699\n",
      "Data columns (total 9 columns):\n",
      " #   Column    Non-Null Count  Dtype  \n",
      "---  ------    --------------  -----  \n",
      " 0   age       700 non-null    int64  \n",
      " 1   ed        700 non-null    int64  \n",
      " 2   employ    700 non-null    int64  \n",
      " 3   address   700 non-null    int64  \n",
      " 4   income    700 non-null    int64  \n",
      " 5   debtinc   700 non-null    float64\n",
      " 6   creddebt  700 non-null    float64\n",
      " 7   othdebt   700 non-null    float64\n",
      " 8   default   700 non-null    int64  \n",
      "dtypes: float64(3), int64(6)\n",
      "memory usage: 49.3 KB\n"
     ]
    }
   ],
   "source": [
    "train.info()"
   ]
  },
  {
   "cell_type": "code",
   "execution_count": 7,
   "id": "78c7db31",
   "metadata": {},
   "outputs": [],
   "source": [
    "# in eduactionn the data is written in numerical form but it is actually in categorical form with dummies created already "
   ]
  },
  {
   "cell_type": "code",
   "execution_count": 8,
   "id": "3206272a",
   "metadata": {},
   "outputs": [
    {
     "data": {
      "text/plain": [
       "age         0\n",
       "ed          0\n",
       "employ      0\n",
       "address     0\n",
       "income      0\n",
       "debtinc     0\n",
       "creddebt    0\n",
       "othdebt     0\n",
       "default     0\n",
       "dtype: int64"
      ]
     },
     "execution_count": 8,
     "metadata": {},
     "output_type": "execute_result"
    }
   ],
   "source": [
    "train.isnull().sum()"
   ]
  },
  {
   "cell_type": "code",
   "execution_count": 9,
   "id": "8bd6de6f",
   "metadata": {},
   "outputs": [
    {
     "data": {
      "text/plain": [
       "int64      6\n",
       "float64    3\n",
       "dtype: int64"
      ]
     },
     "execution_count": 9,
     "metadata": {},
     "output_type": "execute_result"
    }
   ],
   "source": [
    "train.dtypes.value_counts()"
   ]
  },
  {
   "cell_type": "markdown",
   "id": "adb4021d",
   "metadata": {},
   "source": [
    "# EDA"
   ]
  },
  {
   "cell_type": "code",
   "execution_count": 10,
   "id": "7e60f0db",
   "metadata": {},
   "outputs": [
    {
     "data": {
      "text/html": [
       "<div>\n",
       "<style scoped>\n",
       "    .dataframe tbody tr th:only-of-type {\n",
       "        vertical-align: middle;\n",
       "    }\n",
       "\n",
       "    .dataframe tbody tr th {\n",
       "        vertical-align: top;\n",
       "    }\n",
       "\n",
       "    .dataframe thead th {\n",
       "        text-align: right;\n",
       "    }\n",
       "</style>\n",
       "<table border=\"1\" class=\"dataframe\">\n",
       "  <thead>\n",
       "    <tr style=\"text-align: right;\">\n",
       "      <th></th>\n",
       "      <th>count</th>\n",
       "      <th>mean</th>\n",
       "      <th>std</th>\n",
       "      <th>min</th>\n",
       "      <th>25%</th>\n",
       "      <th>50%</th>\n",
       "      <th>75%</th>\n",
       "      <th>max</th>\n",
       "    </tr>\n",
       "  </thead>\n",
       "  <tbody>\n",
       "    <tr>\n",
       "      <th>age</th>\n",
       "      <td>700.0</td>\n",
       "      <td>34.860000</td>\n",
       "      <td>7.997342</td>\n",
       "      <td>20.000000</td>\n",
       "      <td>29.000000</td>\n",
       "      <td>34.000000</td>\n",
       "      <td>40.000000</td>\n",
       "      <td>56.00000</td>\n",
       "    </tr>\n",
       "    <tr>\n",
       "      <th>ed</th>\n",
       "      <td>700.0</td>\n",
       "      <td>1.722857</td>\n",
       "      <td>0.928206</td>\n",
       "      <td>1.000000</td>\n",
       "      <td>1.000000</td>\n",
       "      <td>1.000000</td>\n",
       "      <td>2.000000</td>\n",
       "      <td>5.00000</td>\n",
       "    </tr>\n",
       "    <tr>\n",
       "      <th>employ</th>\n",
       "      <td>700.0</td>\n",
       "      <td>8.388571</td>\n",
       "      <td>6.658039</td>\n",
       "      <td>0.000000</td>\n",
       "      <td>3.000000</td>\n",
       "      <td>7.000000</td>\n",
       "      <td>12.000000</td>\n",
       "      <td>31.00000</td>\n",
       "    </tr>\n",
       "    <tr>\n",
       "      <th>address</th>\n",
       "      <td>700.0</td>\n",
       "      <td>8.278571</td>\n",
       "      <td>6.824877</td>\n",
       "      <td>0.000000</td>\n",
       "      <td>3.000000</td>\n",
       "      <td>7.000000</td>\n",
       "      <td>12.000000</td>\n",
       "      <td>34.00000</td>\n",
       "    </tr>\n",
       "    <tr>\n",
       "      <th>income</th>\n",
       "      <td>700.0</td>\n",
       "      <td>45.601429</td>\n",
       "      <td>36.814226</td>\n",
       "      <td>14.000000</td>\n",
       "      <td>24.000000</td>\n",
       "      <td>34.000000</td>\n",
       "      <td>55.000000</td>\n",
       "      <td>446.00000</td>\n",
       "    </tr>\n",
       "    <tr>\n",
       "      <th>debtinc</th>\n",
       "      <td>700.0</td>\n",
       "      <td>10.260571</td>\n",
       "      <td>6.827234</td>\n",
       "      <td>0.400000</td>\n",
       "      <td>5.000000</td>\n",
       "      <td>8.600000</td>\n",
       "      <td>14.125000</td>\n",
       "      <td>41.30000</td>\n",
       "    </tr>\n",
       "    <tr>\n",
       "      <th>creddebt</th>\n",
       "      <td>700.0</td>\n",
       "      <td>1.553553</td>\n",
       "      <td>2.117197</td>\n",
       "      <td>0.011696</td>\n",
       "      <td>0.369059</td>\n",
       "      <td>0.854869</td>\n",
       "      <td>1.901955</td>\n",
       "      <td>20.56131</td>\n",
       "    </tr>\n",
       "    <tr>\n",
       "      <th>othdebt</th>\n",
       "      <td>700.0</td>\n",
       "      <td>3.058209</td>\n",
       "      <td>3.287555</td>\n",
       "      <td>0.045584</td>\n",
       "      <td>1.044178</td>\n",
       "      <td>1.987567</td>\n",
       "      <td>3.923065</td>\n",
       "      <td>27.03360</td>\n",
       "    </tr>\n",
       "    <tr>\n",
       "      <th>default</th>\n",
       "      <td>700.0</td>\n",
       "      <td>0.261429</td>\n",
       "      <td>0.439727</td>\n",
       "      <td>0.000000</td>\n",
       "      <td>0.000000</td>\n",
       "      <td>0.000000</td>\n",
       "      <td>1.000000</td>\n",
       "      <td>1.00000</td>\n",
       "    </tr>\n",
       "  </tbody>\n",
       "</table>\n",
       "</div>"
      ],
      "text/plain": [
       "          count       mean        std        min        25%        50%  \\\n",
       "age       700.0  34.860000   7.997342  20.000000  29.000000  34.000000   \n",
       "ed        700.0   1.722857   0.928206   1.000000   1.000000   1.000000   \n",
       "employ    700.0   8.388571   6.658039   0.000000   3.000000   7.000000   \n",
       "address   700.0   8.278571   6.824877   0.000000   3.000000   7.000000   \n",
       "income    700.0  45.601429  36.814226  14.000000  24.000000  34.000000   \n",
       "debtinc   700.0  10.260571   6.827234   0.400000   5.000000   8.600000   \n",
       "creddebt  700.0   1.553553   2.117197   0.011696   0.369059   0.854869   \n",
       "othdebt   700.0   3.058209   3.287555   0.045584   1.044178   1.987567   \n",
       "default   700.0   0.261429   0.439727   0.000000   0.000000   0.000000   \n",
       "\n",
       "                75%        max  \n",
       "age       40.000000   56.00000  \n",
       "ed         2.000000    5.00000  \n",
       "employ    12.000000   31.00000  \n",
       "address   12.000000   34.00000  \n",
       "income    55.000000  446.00000  \n",
       "debtinc   14.125000   41.30000  \n",
       "creddebt   1.901955   20.56131  \n",
       "othdebt    3.923065   27.03360  \n",
       "default    1.000000    1.00000  "
      ]
     },
     "execution_count": 10,
     "metadata": {},
     "output_type": "execute_result"
    }
   ],
   "source": [
    "train.describe().T"
   ]
  },
  {
   "cell_type": "code",
   "execution_count": 11,
   "id": "d42f1e7f",
   "metadata": {},
   "outputs": [
    {
     "data": {
      "text/plain": [
       "<AxesSubplot:>"
      ]
     },
     "execution_count": 11,
     "metadata": {},
     "output_type": "execute_result"
    },
    {
     "data": {
      "image/png": "[encoded data removed]",
      "text/plain": [
       "<Figure size 432x288 with 1 Axes>"
      ]
     },
     "metadata": {
      "needs_background": "light"
     },
     "output_type": "display_data"
    }
   ],
   "source": [
    "train.boxplot()"
   ]
  },
  {
   "cell_type": "code",
   "execution_count": 12,
   "id": "5787873c",
   "metadata": {},
   "outputs": [
    {
     "data": {
      "text/plain": [
       "<AxesSubplot:>"
      ]
     },
     "execution_count": 12,
     "metadata": {},
     "output_type": "execute_result"
    },
    {
     "data": {
      "image/png": "[encoded data removed]",
      "text/plain": [
       "<Figure size 432x288 with 1 Axes>"
      ]
     },
     "metadata": {
      "needs_background": "light"
     },
     "output_type": "display_data"
    }
   ],
   "source": [
    "sns.boxplot(data = train)"
   ]
  },
  {
   "cell_type": "code",
   "execution_count": 13,
   "id": "f790d81c",
   "metadata": {},
   "outputs": [],
   "source": [
    "def outlier_capping (x):\n",
    "    x = x.clip(upper = x.quantile(0.99))\n",
    "\n",
    "    x = x.clip(lower = x.quantile(0.01))\n",
    "    return x "
   ]
  },
  {
   "cell_type": "code",
   "execution_count": 14,
   "id": "4d651df0",
   "metadata": {},
   "outputs": [],
   "source": [
    "cleaned_data = train.apply(outlier_capping)"
   ]
  },
  {
   "cell_type": "code",
   "execution_count": 15,
   "id": "2f011ae0",
   "metadata": {},
   "outputs": [
    {
     "data": {
      "text/plain": [
       "<function matplotlib.pyplot.show(close=None, block=None)>"
      ]
     },
     "execution_count": 15,
     "metadata": {},
     "output_type": "execute_result"
    },
    {
     "data": {
      "image/png": "[encoded data removed]",
      "text/plain": [
       "<Figure size 576x432 with 2 Axes>"
      ]
     },
     "metadata": {
      "needs_background": "light"
     },
     "output_type": "display_data"
    }
   ],
   "source": [
    "correlation_mat = cleaned_data.corr()\n",
    "plt.figure(figsize=(8,6))\n",
    "sns.heatmap(correlation_mat,annot=True, cmap = \"Blues\") #cr = correlation that we calculated above \n",
    "plt.show"
   ]
  },
  {
   "cell_type": "code",
   "execution_count": 16,
   "id": "5543f720",
   "metadata": {},
   "outputs": [
    {
     "data": {
      "text/plain": [
       "0    0.738571\n",
       "1    0.261429\n",
       "Name: default, dtype: float64"
      ]
     },
     "execution_count": 16,
     "metadata": {},
     "output_type": "execute_result"
    }
   ],
   "source": [
    "cleaned_data['default'].value_counts(normalize = True)  #null accuracy of 0 is 73% i.e. it percentage \n",
    "# if null accuracy ratio is tilted towards 0 or 1 then it is called inbalance data / class problem \n",
    "# any class ratio less than 25%  is under inbalance "
   ]
  },
  {
   "cell_type": "code",
   "execution_count": 17,
   "id": "aa7adb61",
   "metadata": {},
   "outputs": [],
   "source": [
    "y = cleaned_data['default'] \n",
    "x = cleaned_data.drop([\"default\"],axis=1)"
   ]
  },
  {
   "cell_type": "code",
   "execution_count": 18,
   "id": "b363da49",
   "metadata": {},
   "outputs": [],
   "source": [
    "from sklearn.model_selection import train_test_split"
   ]
  },
  {
   "cell_type": "code",
   "execution_count": 19,
   "id": "7ba9fc16",
   "metadata": {},
   "outputs": [],
   "source": [
    "x_train,x_test,y_train,y_test = train_test_split(x,y,test_size=0.25,random_state=9) "
   ]
  },
  {
   "cell_type": "code",
   "execution_count": 20,
   "id": "96b1ef14",
   "metadata": {},
   "outputs": [
    {
     "data": {
      "text/plain": [
       "0    0.735238\n",
       "1    0.264762\n",
       "Name: default, dtype: float64"
      ]
     },
     "execution_count": 20,
     "metadata": {},
     "output_type": "execute_result"
    }
   ],
   "source": [
    "y_train.value_counts(normalize= True)"
   ]
  },
  {
   "cell_type": "code",
   "execution_count": 21,
   "id": "3b9e419e",
   "metadata": {},
   "outputs": [
    {
     "data": {
      "text/plain": [
       "0    0.748571\n",
       "1    0.251429\n",
       "Name: default, dtype: float64"
      ]
     },
     "execution_count": 21,
     "metadata": {},
     "output_type": "execute_result"
    }
   ],
   "source": [
    "y_test.value_counts(normalize = True)"
   ]
  },
  {
   "cell_type": "code",
   "execution_count": 22,
   "id": "873b50a0",
   "metadata": {},
   "outputs": [],
   "source": [
    "from sklearn import metrics\n",
    "from sklearn.linear_model import LogisticRegression"
   ]
  },
  {
   "cell_type": "code",
   "execution_count": 23,
   "id": "c6cb8af1",
   "metadata": {},
   "outputs": [
    {
     "data": {
      "text/plain": [
       "LogisticRegression(max_iter=10000)"
      ]
     },
     "execution_count": 23,
     "metadata": {},
     "output_type": "execute_result"
    }
   ],
   "source": [
    "log = LogisticRegression(max_iter=10000)\n",
    "log.fit(x_train,y_train)"
   ]
  },
  {
   "cell_type": "markdown",
   "id": "d48ecf1f",
   "metadata": {},
   "source": [
    "# Model Evaluation"
   ]
  },
  {
   "cell_type": "code",
   "execution_count": 24,
   "id": "f2bb4b05",
   "metadata": {},
   "outputs": [
    {
     "name": "stdout",
     "output_type": "stream",
     "text": [
      "Training Score:0.8076190476190476\n",
      "Testing Score:0.8114285714285714\n"
     ]
    }
   ],
   "source": [
    "print(f\"Training Score:{log.score(x_train,y_train)}\")\n",
    "print(f\"Testing Score:{log.score(x_test,y_test)}\")\n"
   ]
  },
  {
   "cell_type": "markdown",
   "id": "d19946a1",
   "metadata": {},
   "source": [
    "#### where train result is less than test then it is under fit "
   ]
  },
  {
   "cell_type": "markdown",
   "id": "9f6bf47f",
   "metadata": {},
   "source": [
    "overfit then model is quit complex  make it simple \n",
    "and if it is underfit then model is quite simple make it complex "
   ]
  },
  {
   "cell_type": "code",
   "execution_count": 25,
   "id": "672a5616",
   "metadata": {},
   "outputs": [],
   "source": [
    "pred_train = log.predict(x_train) # because we have actual value not predicited and we do confusion matrix on basis of predcited and actual value "
   ]
  },
  {
   "cell_type": "code",
   "execution_count": 26,
   "id": "83d43608",
   "metadata": {},
   "outputs": [],
   "source": [
    "pred_test = log.predict(x_test)"
   ]
  },
  {
   "cell_type": "code",
   "execution_count": 27,
   "id": "52ec3af2",
   "metadata": {
    "scrolled": false
   },
   "outputs": [
    {
     "data": {
      "text/plain": [
       "array([3.87865106e-03, 4.11662220e-01, 4.40426720e-02, 5.48832986e-01,\n",
       "       3.18034749e-01, 1.40959844e-02, 4.33990917e-01, 5.72794427e-02,\n",
       "       1.60363565e-01, 5.32664151e-01, 9.82532208e-02, 2.34824184e-03,\n",
       "       7.74981320e-01, 1.16286750e-01, 6.80672507e-01, 1.20200968e-01,\n",
       "       4.91879927e-02, 2.22413028e-01, 3.67970290e-01, 3.40851034e-02,\n",
       "       3.93043147e-01, 7.23277049e-01, 5.52123030e-01, 8.03943551e-01,\n",
       "       3.53793218e-01, 8.30933641e-03, 5.86747810e-01, 1.41136469e-03,\n",
       "       2.93544642e-01, 2.98926385e-01, 6.65917166e-01, 7.62200468e-01,\n",
       "       6.55495126e-02, 2.41384968e-03, 1.61555334e-02, 5.37971076e-02,\n",
       "       1.93933253e-02, 3.42261783e-01, 2.90397412e-01, 1.56027545e-01,\n",
       "       3.43945791e-02, 2.51872865e-01, 3.92109443e-01, 4.83978794e-01,\n",
       "       3.72068329e-01, 6.40476189e-03, 5.42377823e-01, 4.00439217e-01,\n",
       "       4.72877865e-01, 2.32902775e-01, 3.31819672e-01, 1.42353255e-01,\n",
       "       3.35399461e-01, 1.10341881e-02, 5.62305240e-01, 1.12574292e-01,\n",
       "       8.25716181e-02, 3.99601771e-02, 1.58185980e-03, 1.59318550e-01,\n",
       "       3.35120254e-01, 7.20707247e-01, 6.74076147e-01, 3.56074286e-02,\n",
       "       1.91384864e-01, 5.69369250e-01, 1.73005936e-01, 8.05868761e-01,\n",
       "       5.14305586e-01, 3.90440138e-01, 6.37145938e-03, 7.19681776e-03,\n",
       "       4.74031115e-01, 1.07869075e-01, 6.44174854e-02, 4.99675052e-02,\n",
       "       1.15671714e-02, 6.65018456e-03, 4.63854043e-02, 3.47593734e-01,\n",
       "       2.58635484e-01, 2.57420401e-01, 7.38771620e-01, 7.07111070e-02,\n",
       "       4.50384941e-01, 4.64224222e-02, 2.67954295e-02, 3.23485281e-03,\n",
       "       3.29764601e-03, 2.48612000e-02, 1.72912814e-01, 3.75715768e-01,\n",
       "       9.88755078e-01, 2.82407197e-01, 5.39930444e-01, 5.67121390e-03,\n",
       "       1.09546750e-01, 1.32565186e-01, 1.50255432e-02, 1.21289620e-01,\n",
       "       1.37707786e-01, 7.50102591e-02, 8.99959359e-03, 1.03699141e-02,\n",
       "       1.94528092e-01, 2.75814987e-01, 1.05609753e-01, 1.78692829e-02,\n",
       "       1.63436905e-03, 6.76300595e-03, 9.85677453e-02, 1.14513918e-01,\n",
       "       4.85539194e-01, 8.33529081e-01, 2.47151446e-01, 1.54944342e-02,\n",
       "       6.22125492e-03, 2.95292132e-01, 8.67485773e-03, 7.50181157e-01,\n",
       "       3.17297945e-01, 2.58825624e-01, 3.56896640e-01, 2.63393154e-02,\n",
       "       1.93077641e-01, 6.63771234e-01, 3.91138497e-02, 2.00948943e-02,\n",
       "       3.19093450e-01, 4.86247896e-01, 4.27048544e-03, 1.70778736e-01,\n",
       "       5.73110731e-01, 2.30956376e-01, 7.01336453e-02, 4.63725790e-01,\n",
       "       2.28118272e-01, 1.42111367e-01, 6.46765134e-02, 6.98092320e-01,\n",
       "       1.29573186e-01, 8.59553040e-02, 3.41977547e-01, 3.99676329e-01,\n",
       "       6.82493717e-03, 6.43218660e-01, 6.30106629e-01, 3.86274978e-02,\n",
       "       1.02096966e-01, 4.06539056e-01, 9.79275214e-02, 2.46833384e-02,\n",
       "       5.09480914e-01, 4.22353165e-01, 2.76569407e-01, 2.37997507e-03,\n",
       "       2.33521623e-02, 6.75202417e-01, 4.06307824e-01, 4.77669324e-01,\n",
       "       4.60892609e-04, 7.02215112e-01, 6.79161891e-01, 9.65269246e-02,\n",
       "       2.61713114e-02, 4.63253072e-01, 2.14828713e-01, 2.53024068e-01,\n",
       "       6.90774029e-01, 3.13248693e-01, 3.93363909e-02, 5.41205508e-01,\n",
       "       8.99784657e-02, 2.35161511e-02, 1.91593182e-03, 6.12921568e-01,\n",
       "       4.86307964e-02, 5.15980240e-02, 8.15498453e-01, 5.20292323e-02,\n",
       "       2.75681774e-03, 3.30381783e-01, 3.41147351e-01, 3.52033840e-01,\n",
       "       3.47453585e-03, 1.33827618e-01, 2.34184460e-02, 2.33432323e-01,\n",
       "       6.75605950e-02, 2.39934247e-01, 9.64536503e-01, 6.92025679e-03,\n",
       "       3.62460274e-01, 5.24120112e-01, 1.63661073e-02, 8.60514937e-01,\n",
       "       1.26918156e-01, 7.79566966e-01, 9.78515562e-02, 3.42798842e-02,\n",
       "       8.06615351e-01, 5.95489773e-01, 3.56766114e-02, 2.45305877e-02,\n",
       "       6.60174383e-02, 7.75983730e-01, 5.38287048e-03, 5.76245425e-02,\n",
       "       1.55533585e-01, 7.96343114e-01, 6.99419190e-01, 1.25917376e-01,\n",
       "       7.46602593e-02, 7.92443408e-02, 6.41685148e-02, 1.31638932e-01,\n",
       "       4.79233845e-01, 4.00010150e-01, 5.85937043e-01, 2.11536320e-01,\n",
       "       7.99212726e-03, 7.25260713e-03, 2.58946641e-02, 6.55651048e-02,\n",
       "       4.79277796e-01, 6.28233688e-01, 8.82071167e-01, 4.23008773e-02,\n",
       "       7.30817044e-02, 5.55598640e-01, 2.29555100e-01, 1.30718732e-02,\n",
       "       5.93087502e-02, 6.35250730e-03, 5.79117831e-01, 5.03043510e-01,\n",
       "       3.43757595e-01, 7.25465124e-01, 8.39760460e-01, 1.28705692e-01,\n",
       "       1.66762967e-01, 5.63247128e-02, 6.73957587e-02, 2.57840885e-01,\n",
       "       2.52347870e-01, 8.19418802e-02, 4.47439868e-02, 3.45281305e-01,\n",
       "       6.29350039e-02, 9.28694622e-01, 1.64275885e-01, 2.35899726e-01,\n",
       "       1.11678513e-01, 1.63240450e-01, 1.65304913e-02, 7.93957621e-03,\n",
       "       4.89016500e-02, 4.47914085e-01, 3.25838211e-02, 2.79296709e-01,\n",
       "       8.55864120e-04, 6.06877659e-01, 4.39470369e-01, 4.49722302e-01,\n",
       "       1.71436031e-01, 4.28627859e-01, 3.08151713e-01, 1.83751688e-02,\n",
       "       2.71534736e-03, 2.42479669e-01, 2.02560268e-01, 3.95637782e-01,\n",
       "       2.28135060e-01, 7.06216313e-01, 5.70705079e-01, 4.70042794e-01,\n",
       "       7.53764027e-02, 1.77014027e-01, 4.60190040e-01, 7.44304362e-02,\n",
       "       1.01825941e-01, 6.41550719e-01, 5.97252509e-02, 3.93408938e-01,\n",
       "       1.27277961e-02, 2.05904698e-02, 4.24957375e-01, 7.16857483e-01,\n",
       "       3.82250899e-01, 1.53867484e-01, 9.47640199e-01, 4.01402539e-01,\n",
       "       4.67931492e-01, 1.54031151e-01, 2.09178453e-01, 2.25838723e-01,\n",
       "       3.75410843e-02, 6.07601692e-03, 1.46133496e-02, 6.08191218e-01,\n",
       "       1.56649260e-01, 2.13292406e-02, 6.90045172e-02, 7.66867227e-01,\n",
       "       6.09946829e-01, 9.51422225e-02, 1.85127366e-01, 1.20283195e-01,\n",
       "       1.35572554e-01, 1.80288999e-02, 1.48033492e-02, 6.69682611e-01,\n",
       "       4.61400407e-02, 1.52973333e-03, 1.37937412e-01, 5.59520621e-01,\n",
       "       5.80224644e-01, 3.71810378e-03, 2.69145837e-02, 3.51395583e-01,\n",
       "       5.76867667e-01, 2.66590137e-01, 2.31426058e-01, 3.84433149e-01,\n",
       "       1.47670906e-01, 1.93310932e-01, 5.12392822e-01, 1.67433319e-01,\n",
       "       8.48739339e-02, 1.29005682e-01, 2.07509857e-01, 7.40662490e-01,\n",
       "       8.49112433e-02, 1.07493215e-03, 8.26692085e-01, 3.93823650e-01,\n",
       "       5.15650508e-01, 2.83337001e-02, 6.92239621e-01, 1.46358038e-02,\n",
       "       3.95654305e-01, 9.87526669e-02, 2.09128264e-01, 3.10336183e-01,\n",
       "       2.38433405e-01, 4.20695459e-02, 3.54414481e-01, 2.42477758e-01,\n",
       "       9.42751919e-01, 9.90187446e-03, 9.31430871e-02, 9.50581326e-01,\n",
       "       1.12912467e-01, 5.94833868e-02, 7.59821444e-02, 1.43539095e-01,\n",
       "       3.85547933e-03, 2.28637799e-02, 6.03470111e-02, 6.81668369e-01,\n",
       "       4.69527150e-03, 2.24588806e-01, 1.53030131e-01, 8.94576855e-02,\n",
       "       5.28072625e-01, 2.43975358e-02, 6.69810845e-01, 1.34768048e-01,\n",
       "       4.11391300e-02, 6.73893393e-01, 1.87231745e-02, 1.28053327e-01,\n",
       "       6.35455662e-03, 5.50696984e-01, 2.94556671e-01, 1.23099494e-01,\n",
       "       5.04304310e-01, 4.41261986e-01, 3.12551360e-03, 2.82878226e-03,\n",
       "       1.04741032e-01, 3.03103500e-02, 2.42251837e-02, 1.21877168e-01,\n",
       "       8.83778835e-01, 2.77531543e-01, 1.83307174e-01, 4.11712747e-02,\n",
       "       1.19356053e-02, 1.88166906e-01, 3.87227210e-01, 3.98192025e-02,\n",
       "       8.06161423e-02, 9.14130142e-03, 3.49104979e-01, 1.29143147e-02,\n",
       "       5.72223507e-01, 3.34761926e-02, 8.17891088e-02, 1.36257858e-01,\n",
       "       4.01801876e-01, 3.68614229e-01, 2.79424404e-02, 4.42472170e-01,\n",
       "       3.26830734e-01, 5.42995565e-02, 2.05275909e-01, 6.79137393e-01,\n",
       "       7.62237555e-02, 6.86321628e-01, 4.27259336e-01, 9.12116382e-03,\n",
       "       1.90882040e-01, 2.02965486e-01, 3.24416515e-01, 1.27655166e-01,\n",
       "       4.38290347e-01, 2.03424625e-01, 4.15301556e-01, 5.35475311e-01,\n",
       "       2.21808133e-01, 6.05070808e-01, 1.55113873e-01, 9.01815828e-02,\n",
       "       3.11052820e-01, 2.75552467e-01, 1.64505236e-01, 1.15830911e-01,\n",
       "       7.80251628e-01, 2.51399977e-01, 1.03262492e-02, 5.22721032e-01,\n",
       "       1.49861789e-01, 3.29367587e-01, 1.54227811e-01, 7.87069056e-04,\n",
       "       9.78996447e-01, 1.91998126e-01, 4.77796533e-01, 2.05744539e-01,\n",
       "       4.63097961e-02, 3.70768131e-01, 3.50977492e-03, 7.64710855e-01,\n",
       "       1.24905072e-01, 1.29882532e-01, 1.48303453e-01, 4.70155361e-02,\n",
       "       1.48115009e-02, 1.32338354e-01, 2.54840689e-01, 4.77602014e-01,\n",
       "       1.88484145e-01, 6.42945886e-01, 2.23333016e-01, 8.65150241e-03,\n",
       "       5.15569471e-01, 4.36492029e-01, 4.52038685e-01, 1.17966335e-01,\n",
       "       4.32711270e-01, 3.39524448e-01, 2.02715215e-02, 1.54588606e-01,\n",
       "       3.89945708e-02, 5.69817984e-01, 1.94093627e-01, 1.70912489e-01,\n",
       "       2.68461004e-01, 5.92815389e-02, 2.04145409e-01, 7.50296388e-01,\n",
       "       9.71728809e-01, 4.14483267e-02, 1.86728044e-01, 5.45394589e-02,\n",
       "       3.89205787e-03, 2.10803717e-01, 1.40707605e-01, 3.76142646e-02,\n",
       "       3.67238465e-02, 2.22701136e-01, 3.08208569e-01, 3.15494274e-01,\n",
       "       5.23410365e-01, 5.84022912e-01, 2.82424618e-03, 9.53421610e-01,\n",
       "       4.03777909e-01, 1.04498278e-02, 8.89006832e-01, 4.53785406e-01,\n",
       "       1.26434950e-02, 1.20298033e-02, 6.00963790e-01, 6.42281227e-02,\n",
       "       6.13451879e-02, 2.05673255e-01, 5.46202184e-01, 2.52992729e-01,\n",
       "       1.99745859e-02, 1.77060270e-01, 1.36272884e-01, 1.26854477e-02,\n",
       "       5.83180298e-01, 1.51927898e-02, 2.02199089e-01, 7.51539153e-02,\n",
       "       4.88313722e-01, 4.69754486e-02, 2.63277058e-01, 5.48775544e-02,\n",
       "       5.26421472e-01, 9.26759671e-02, 3.96736749e-01, 3.13319590e-01,\n",
       "       2.74448596e-01, 2.90989668e-01, 5.12370942e-03, 7.49473625e-02,\n",
       "       1.05997796e-01, 5.19777122e-01, 2.21092247e-01, 1.32572919e-01,\n",
       "       8.26488123e-01])"
      ]
     },
     "execution_count": 27,
     "metadata": {},
     "output_type": "execute_result"
    }
   ],
   "source": [
    "log.predict_proba(x_train)[:,1]    # probability of 1 "
   ]
  },
  {
   "cell_type": "code",
   "execution_count": 28,
   "id": "669b4f55",
   "metadata": {},
   "outputs": [
    {
     "data": {
      "text/plain": [
       "342    0\n",
       "620    0\n",
       "178    0\n",
       "123    1\n",
       "582    0\n",
       "      ..\n",
       "56     0\n",
       "501    1\n",
       "638    0\n",
       "348    0\n",
       "382    1\n",
       "Name: default, Length: 525, dtype: int64"
      ]
     },
     "execution_count": 28,
     "metadata": {},
     "output_type": "execute_result"
    }
   ],
   "source": [
    "y_train"
   ]
  },
  {
   "cell_type": "code",
   "execution_count": 29,
   "id": "5aaf843d",
   "metadata": {},
   "outputs": [
    {
     "data": {
      "text/plain": [
       "array([[353,  33],\n",
       "       [ 68,  71]], dtype=int64)"
      ]
     },
     "execution_count": 29,
     "metadata": {},
     "output_type": "execute_result"
    }
   ],
   "source": [
    "metrics.confusion_matrix(y_train,pred_train)"
   ]
  },
  {
   "cell_type": "code",
   "execution_count": 30,
   "id": "27f15908",
   "metadata": {},
   "outputs": [
    {
     "data": {
      "text/html": [
       "<div>\n",
       "<style scoped>\n",
       "    .dataframe tbody tr th:only-of-type {\n",
       "        vertical-align: middle;\n",
       "    }\n",
       "\n",
       "    .dataframe tbody tr th {\n",
       "        vertical-align: top;\n",
       "    }\n",
       "\n",
       "    .dataframe thead th {\n",
       "        text-align: right;\n",
       "    }\n",
       "</style>\n",
       "<table border=\"1\" class=\"dataframe\">\n",
       "  <thead>\n",
       "    <tr style=\"text-align: right;\">\n",
       "      <th></th>\n",
       "      <th>Pred_0</th>\n",
       "      <th>Pred_1</th>\n",
       "    </tr>\n",
       "  </thead>\n",
       "  <tbody>\n",
       "    <tr>\n",
       "      <th>act_0</th>\n",
       "      <td>353</td>\n",
       "      <td>33</td>\n",
       "    </tr>\n",
       "    <tr>\n",
       "      <th>act_1</th>\n",
       "      <td>68</td>\n",
       "      <td>71</td>\n",
       "    </tr>\n",
       "  </tbody>\n",
       "</table>\n",
       "</div>"
      ],
      "text/plain": [
       "       Pred_0  Pred_1\n",
       "act_0     353      33\n",
       "act_1      68      71"
      ]
     },
     "execution_count": 30,
     "metadata": {},
     "output_type": "execute_result"
    }
   ],
   "source": [
    "cnf = pd.DataFrame(metrics.confusion_matrix(y_train, pred_train),columns= ['Pred_0','Pred_1'],\n",
    "                  index = [\"act_0\",\"act_1\"])\n",
    "cnf"
   ]
  },
  {
   "cell_type": "code",
   "execution_count": 31,
   "id": "0553b73f",
   "metadata": {},
   "outputs": [
    {
     "name": "stdout",
     "output_type": "stream",
     "text": [
      "              precision    recall  f1-score   support\n",
      "\n",
      "           0       0.84      0.91      0.87       386\n",
      "           1       0.68      0.51      0.58       139\n",
      "\n",
      "    accuracy                           0.81       525\n",
      "   macro avg       0.76      0.71      0.73       525\n",
      "weighted avg       0.80      0.81      0.80       525\n",
      "\n"
     ]
    }
   ],
   "source": [
    "print(metrics.classification_report (y_train,pred_train))"
   ]
  },
  {
   "cell_type": "code",
   "execution_count": 32,
   "id": "e76d58c1",
   "metadata": {},
   "outputs": [
    {
     "data": {
      "text/html": [
       "<div>\n",
       "<style scoped>\n",
       "    .dataframe tbody tr th:only-of-type {\n",
       "        vertical-align: middle;\n",
       "    }\n",
       "\n",
       "    .dataframe tbody tr th {\n",
       "        vertical-align: top;\n",
       "    }\n",
       "\n",
       "    .dataframe thead th {\n",
       "        text-align: right;\n",
       "    }\n",
       "</style>\n",
       "<table border=\"1\" class=\"dataframe\">\n",
       "  <thead>\n",
       "    <tr style=\"text-align: right;\">\n",
       "      <th></th>\n",
       "      <th>Pred_0</th>\n",
       "      <th>Pred_1</th>\n",
       "    </tr>\n",
       "  </thead>\n",
       "  <tbody>\n",
       "    <tr>\n",
       "      <th>act_0</th>\n",
       "      <td>121</td>\n",
       "      <td>10</td>\n",
       "    </tr>\n",
       "    <tr>\n",
       "      <th>act_1</th>\n",
       "      <td>23</td>\n",
       "      <td>21</td>\n",
       "    </tr>\n",
       "  </tbody>\n",
       "</table>\n",
       "</div>"
      ],
      "text/plain": [
       "       Pred_0  Pred_1\n",
       "act_0     121      10\n",
       "act_1      23      21"
      ]
     },
     "execution_count": 32,
     "metadata": {},
     "output_type": "execute_result"
    }
   ],
   "source": [
    "cnf = pd.DataFrame(metrics.confusion_matrix(y_test, pred_test),columns= ['Pred_0','Pred_1'],\n",
    "                  index = [\"act_0\",\"act_1\"])\n",
    "cnf"
   ]
  },
  {
   "cell_type": "code",
   "execution_count": 33,
   "id": "c42a7b57",
   "metadata": {},
   "outputs": [
    {
     "name": "stdout",
     "output_type": "stream",
     "text": [
      "              precision    recall  f1-score   support\n",
      "\n",
      "           0       0.84      0.92      0.88       131\n",
      "           1       0.68      0.48      0.56        44\n",
      "\n",
      "    accuracy                           0.81       175\n",
      "   macro avg       0.76      0.70      0.72       175\n",
      "weighted avg       0.80      0.81      0.80       175\n",
      "\n"
     ]
    }
   ],
   "source": [
    "print(metrics.classification_report(y_test,pred_test))"
   ]
  },
  {
   "cell_type": "code",
   "execution_count": 34,
   "id": "556d31f6",
   "metadata": {},
   "outputs": [
    {
     "data": {
      "text/plain": [
       "array([[0.99612135, 0.00387865],\n",
       "       [0.58833778, 0.41166222],\n",
       "       [0.95595733, 0.04404267],\n",
       "       ...,\n",
       "       [0.77890775, 0.22109225],\n",
       "       [0.86742708, 0.13257292],\n",
       "       [0.17351188, 0.82648812]])"
      ]
     },
     "execution_count": 34,
     "metadata": {},
     "output_type": "execute_result"
    }
   ],
   "source": [
    "log.predict_proba(x_train)"
   ]
  },
  {
   "cell_type": "code",
   "execution_count": 35,
   "id": "155ec4e7",
   "metadata": {},
   "outputs": [
    {
     "data": {
      "text/plain": [
       "array([3.87865106e-03, 4.11662220e-01, 4.40426720e-02, 5.48832986e-01,\n",
       "       3.18034749e-01, 1.40959844e-02, 4.33990917e-01, 5.72794427e-02,\n",
       "       1.60363565e-01, 5.32664151e-01, 9.82532208e-02, 2.34824184e-03,\n",
       "       7.74981320e-01, 1.16286750e-01, 6.80672507e-01, 1.20200968e-01,\n",
       "       4.91879927e-02, 2.22413028e-01, 3.67970290e-01, 3.40851034e-02,\n",
       "       3.93043147e-01, 7.23277049e-01, 5.52123030e-01, 8.03943551e-01,\n",
       "       3.53793218e-01, 8.30933641e-03, 5.86747810e-01, 1.41136469e-03,\n",
       "       2.93544642e-01, 2.98926385e-01, 6.65917166e-01, 7.62200468e-01,\n",
       "       6.55495126e-02, 2.41384968e-03, 1.61555334e-02, 5.37971076e-02,\n",
       "       1.93933253e-02, 3.42261783e-01, 2.90397412e-01, 1.56027545e-01,\n",
       "       3.43945791e-02, 2.51872865e-01, 3.92109443e-01, 4.83978794e-01,\n",
       "       3.72068329e-01, 6.40476189e-03, 5.42377823e-01, 4.00439217e-01,\n",
       "       4.72877865e-01, 2.32902775e-01, 3.31819672e-01, 1.42353255e-01,\n",
       "       3.35399461e-01, 1.10341881e-02, 5.62305240e-01, 1.12574292e-01,\n",
       "       8.25716181e-02, 3.99601771e-02, 1.58185980e-03, 1.59318550e-01,\n",
       "       3.35120254e-01, 7.20707247e-01, 6.74076147e-01, 3.56074286e-02,\n",
       "       1.91384864e-01, 5.69369250e-01, 1.73005936e-01, 8.05868761e-01,\n",
       "       5.14305586e-01, 3.90440138e-01, 6.37145938e-03, 7.19681776e-03,\n",
       "       4.74031115e-01, 1.07869075e-01, 6.44174854e-02, 4.99675052e-02,\n",
       "       1.15671714e-02, 6.65018456e-03, 4.63854043e-02, 3.47593734e-01,\n",
       "       2.58635484e-01, 2.57420401e-01, 7.38771620e-01, 7.07111070e-02,\n",
       "       4.50384941e-01, 4.64224222e-02, 2.67954295e-02, 3.23485281e-03,\n",
       "       3.29764601e-03, 2.48612000e-02, 1.72912814e-01, 3.75715768e-01,\n",
       "       9.88755078e-01, 2.82407197e-01, 5.39930444e-01, 5.67121390e-03,\n",
       "       1.09546750e-01, 1.32565186e-01, 1.50255432e-02, 1.21289620e-01,\n",
       "       1.37707786e-01, 7.50102591e-02, 8.99959359e-03, 1.03699141e-02,\n",
       "       1.94528092e-01, 2.75814987e-01, 1.05609753e-01, 1.78692829e-02,\n",
       "       1.63436905e-03, 6.76300595e-03, 9.85677453e-02, 1.14513918e-01,\n",
       "       4.85539194e-01, 8.33529081e-01, 2.47151446e-01, 1.54944342e-02,\n",
       "       6.22125492e-03, 2.95292132e-01, 8.67485773e-03, 7.50181157e-01,\n",
       "       3.17297945e-01, 2.58825624e-01, 3.56896640e-01, 2.63393154e-02,\n",
       "       1.93077641e-01, 6.63771234e-01, 3.91138497e-02, 2.00948943e-02,\n",
       "       3.19093450e-01, 4.86247896e-01, 4.27048544e-03, 1.70778736e-01,\n",
       "       5.73110731e-01, 2.30956376e-01, 7.01336453e-02, 4.63725790e-01,\n",
       "       2.28118272e-01, 1.42111367e-01, 6.46765134e-02, 6.98092320e-01,\n",
       "       1.29573186e-01, 8.59553040e-02, 3.41977547e-01, 3.99676329e-01,\n",
       "       6.82493717e-03, 6.43218660e-01, 6.30106629e-01, 3.86274978e-02,\n",
       "       1.02096966e-01, 4.06539056e-01, 9.79275214e-02, 2.46833384e-02,\n",
       "       5.09480914e-01, 4.22353165e-01, 2.76569407e-01, 2.37997507e-03,\n",
       "       2.33521623e-02, 6.75202417e-01, 4.06307824e-01, 4.77669324e-01,\n",
       "       4.60892609e-04, 7.02215112e-01, 6.79161891e-01, 9.65269246e-02,\n",
       "       2.61713114e-02, 4.63253072e-01, 2.14828713e-01, 2.53024068e-01,\n",
       "       6.90774029e-01, 3.13248693e-01, 3.93363909e-02, 5.41205508e-01,\n",
       "       8.99784657e-02, 2.35161511e-02, 1.91593182e-03, 6.12921568e-01,\n",
       "       4.86307964e-02, 5.15980240e-02, 8.15498453e-01, 5.20292323e-02,\n",
       "       2.75681774e-03, 3.30381783e-01, 3.41147351e-01, 3.52033840e-01,\n",
       "       3.47453585e-03, 1.33827618e-01, 2.34184460e-02, 2.33432323e-01,\n",
       "       6.75605950e-02, 2.39934247e-01, 9.64536503e-01, 6.92025679e-03,\n",
       "       3.62460274e-01, 5.24120112e-01, 1.63661073e-02, 8.60514937e-01,\n",
       "       1.26918156e-01, 7.79566966e-01, 9.78515562e-02, 3.42798842e-02,\n",
       "       8.06615351e-01, 5.95489773e-01, 3.56766114e-02, 2.45305877e-02,\n",
       "       6.60174383e-02, 7.75983730e-01, 5.38287048e-03, 5.76245425e-02,\n",
       "       1.55533585e-01, 7.96343114e-01, 6.99419190e-01, 1.25917376e-01,\n",
       "       7.46602593e-02, 7.92443408e-02, 6.41685148e-02, 1.31638932e-01,\n",
       "       4.79233845e-01, 4.00010150e-01, 5.85937043e-01, 2.11536320e-01,\n",
       "       7.99212726e-03, 7.25260713e-03, 2.58946641e-02, 6.55651048e-02,\n",
       "       4.79277796e-01, 6.28233688e-01, 8.82071167e-01, 4.23008773e-02,\n",
       "       7.30817044e-02, 5.55598640e-01, 2.29555100e-01, 1.30718732e-02,\n",
       "       5.93087502e-02, 6.35250730e-03, 5.79117831e-01, 5.03043510e-01,\n",
       "       3.43757595e-01, 7.25465124e-01, 8.39760460e-01, 1.28705692e-01,\n",
       "       1.66762967e-01, 5.63247128e-02, 6.73957587e-02, 2.57840885e-01,\n",
       "       2.52347870e-01, 8.19418802e-02, 4.47439868e-02, 3.45281305e-01,\n",
       "       6.29350039e-02, 9.28694622e-01, 1.64275885e-01, 2.35899726e-01,\n",
       "       1.11678513e-01, 1.63240450e-01, 1.65304913e-02, 7.93957621e-03,\n",
       "       4.89016500e-02, 4.47914085e-01, 3.25838211e-02, 2.79296709e-01,\n",
       "       8.55864120e-04, 6.06877659e-01, 4.39470369e-01, 4.49722302e-01,\n",
       "       1.71436031e-01, 4.28627859e-01, 3.08151713e-01, 1.83751688e-02,\n",
       "       2.71534736e-03, 2.42479669e-01, 2.02560268e-01, 3.95637782e-01,\n",
       "       2.28135060e-01, 7.06216313e-01, 5.70705079e-01, 4.70042794e-01,\n",
       "       7.53764027e-02, 1.77014027e-01, 4.60190040e-01, 7.44304362e-02,\n",
       "       1.01825941e-01, 6.41550719e-01, 5.97252509e-02, 3.93408938e-01,\n",
       "       1.27277961e-02, 2.05904698e-02, 4.24957375e-01, 7.16857483e-01,\n",
       "       3.82250899e-01, 1.53867484e-01, 9.47640199e-01, 4.01402539e-01,\n",
       "       4.67931492e-01, 1.54031151e-01, 2.09178453e-01, 2.25838723e-01,\n",
       "       3.75410843e-02, 6.07601692e-03, 1.46133496e-02, 6.08191218e-01,\n",
       "       1.56649260e-01, 2.13292406e-02, 6.90045172e-02, 7.66867227e-01,\n",
       "       6.09946829e-01, 9.51422225e-02, 1.85127366e-01, 1.20283195e-01,\n",
       "       1.35572554e-01, 1.80288999e-02, 1.48033492e-02, 6.69682611e-01,\n",
       "       4.61400407e-02, 1.52973333e-03, 1.37937412e-01, 5.59520621e-01,\n",
       "       5.80224644e-01, 3.71810378e-03, 2.69145837e-02, 3.51395583e-01,\n",
       "       5.76867667e-01, 2.66590137e-01, 2.31426058e-01, 3.84433149e-01,\n",
       "       1.47670906e-01, 1.93310932e-01, 5.12392822e-01, 1.67433319e-01,\n",
       "       8.48739339e-02, 1.29005682e-01, 2.07509857e-01, 7.40662490e-01,\n",
       "       8.49112433e-02, 1.07493215e-03, 8.26692085e-01, 3.93823650e-01,\n",
       "       5.15650508e-01, 2.83337001e-02, 6.92239621e-01, 1.46358038e-02,\n",
       "       3.95654305e-01, 9.87526669e-02, 2.09128264e-01, 3.10336183e-01,\n",
       "       2.38433405e-01, 4.20695459e-02, 3.54414481e-01, 2.42477758e-01,\n",
       "       9.42751919e-01, 9.90187446e-03, 9.31430871e-02, 9.50581326e-01,\n",
       "       1.12912467e-01, 5.94833868e-02, 7.59821444e-02, 1.43539095e-01,\n",
       "       3.85547933e-03, 2.28637799e-02, 6.03470111e-02, 6.81668369e-01,\n",
       "       4.69527150e-03, 2.24588806e-01, 1.53030131e-01, 8.94576855e-02,\n",
       "       5.28072625e-01, 2.43975358e-02, 6.69810845e-01, 1.34768048e-01,\n",
       "       4.11391300e-02, 6.73893393e-01, 1.87231745e-02, 1.28053327e-01,\n",
       "       6.35455662e-03, 5.50696984e-01, 2.94556671e-01, 1.23099494e-01,\n",
       "       5.04304310e-01, 4.41261986e-01, 3.12551360e-03, 2.82878226e-03,\n",
       "       1.04741032e-01, 3.03103500e-02, 2.42251837e-02, 1.21877168e-01,\n",
       "       8.83778835e-01, 2.77531543e-01, 1.83307174e-01, 4.11712747e-02,\n",
       "       1.19356053e-02, 1.88166906e-01, 3.87227210e-01, 3.98192025e-02,\n",
       "       8.06161423e-02, 9.14130142e-03, 3.49104979e-01, 1.29143147e-02,\n",
       "       5.72223507e-01, 3.34761926e-02, 8.17891088e-02, 1.36257858e-01,\n",
       "       4.01801876e-01, 3.68614229e-01, 2.79424404e-02, 4.42472170e-01,\n",
       "       3.26830734e-01, 5.42995565e-02, 2.05275909e-01, 6.79137393e-01,\n",
       "       7.62237555e-02, 6.86321628e-01, 4.27259336e-01, 9.12116382e-03,\n",
       "       1.90882040e-01, 2.02965486e-01, 3.24416515e-01, 1.27655166e-01,\n",
       "       4.38290347e-01, 2.03424625e-01, 4.15301556e-01, 5.35475311e-01,\n",
       "       2.21808133e-01, 6.05070808e-01, 1.55113873e-01, 9.01815828e-02,\n",
       "       3.11052820e-01, 2.75552467e-01, 1.64505236e-01, 1.15830911e-01,\n",
       "       7.80251628e-01, 2.51399977e-01, 1.03262492e-02, 5.22721032e-01,\n",
       "       1.49861789e-01, 3.29367587e-01, 1.54227811e-01, 7.87069056e-04,\n",
       "       9.78996447e-01, 1.91998126e-01, 4.77796533e-01, 2.05744539e-01,\n",
       "       4.63097961e-02, 3.70768131e-01, 3.50977492e-03, 7.64710855e-01,\n",
       "       1.24905072e-01, 1.29882532e-01, 1.48303453e-01, 4.70155361e-02,\n",
       "       1.48115009e-02, 1.32338354e-01, 2.54840689e-01, 4.77602014e-01,\n",
       "       1.88484145e-01, 6.42945886e-01, 2.23333016e-01, 8.65150241e-03,\n",
       "       5.15569471e-01, 4.36492029e-01, 4.52038685e-01, 1.17966335e-01,\n",
       "       4.32711270e-01, 3.39524448e-01, 2.02715215e-02, 1.54588606e-01,\n",
       "       3.89945708e-02, 5.69817984e-01, 1.94093627e-01, 1.70912489e-01,\n",
       "       2.68461004e-01, 5.92815389e-02, 2.04145409e-01, 7.50296388e-01,\n",
       "       9.71728809e-01, 4.14483267e-02, 1.86728044e-01, 5.45394589e-02,\n",
       "       3.89205787e-03, 2.10803717e-01, 1.40707605e-01, 3.76142646e-02,\n",
       "       3.67238465e-02, 2.22701136e-01, 3.08208569e-01, 3.15494274e-01,\n",
       "       5.23410365e-01, 5.84022912e-01, 2.82424618e-03, 9.53421610e-01,\n",
       "       4.03777909e-01, 1.04498278e-02, 8.89006832e-01, 4.53785406e-01,\n",
       "       1.26434950e-02, 1.20298033e-02, 6.00963790e-01, 6.42281227e-02,\n",
       "       6.13451879e-02, 2.05673255e-01, 5.46202184e-01, 2.52992729e-01,\n",
       "       1.99745859e-02, 1.77060270e-01, 1.36272884e-01, 1.26854477e-02,\n",
       "       5.83180298e-01, 1.51927898e-02, 2.02199089e-01, 7.51539153e-02,\n",
       "       4.88313722e-01, 4.69754486e-02, 2.63277058e-01, 5.48775544e-02,\n",
       "       5.26421472e-01, 9.26759671e-02, 3.96736749e-01, 3.13319590e-01,\n",
       "       2.74448596e-01, 2.90989668e-01, 5.12370942e-03, 7.49473625e-02,\n",
       "       1.05997796e-01, 5.19777122e-01, 2.21092247e-01, 1.32572919e-01,\n",
       "       8.26488123e-01])"
      ]
     },
     "execution_count": 35,
     "metadata": {},
     "output_type": "execute_result"
    }
   ],
   "source": [
    "log.predict_proba(x_train)[:,1]"
   ]
  },
  {
   "cell_type": "code",
   "execution_count": null,
   "id": "7af59351",
   "metadata": {},
   "outputs": [],
   "source": []
  },
  {
   "cell_type": "code",
   "execution_count": null,
   "id": "f551f070",
   "metadata": {},
   "outputs": [],
   "source": []
  },
  {
   "cell_type": "code",
   "execution_count": 36,
   "id": "acfeec45",
   "metadata": {},
   "outputs": [
    {
     "data": {
      "text/html": [
       "<div>\n",
       "<style scoped>\n",
       "    .dataframe tbody tr th:only-of-type {\n",
       "        vertical-align: middle;\n",
       "    }\n",
       "\n",
       "    .dataframe tbody tr th {\n",
       "        vertical-align: top;\n",
       "    }\n",
       "\n",
       "    .dataframe thead th {\n",
       "        text-align: right;\n",
       "    }\n",
       "</style>\n",
       "<table border=\"1\" class=\"dataframe\">\n",
       "  <thead>\n",
       "    <tr style=\"text-align: right;\">\n",
       "      <th></th>\n",
       "      <th>prob_0</th>\n",
       "      <th>prob_1</th>\n",
       "    </tr>\n",
       "  </thead>\n",
       "  <tbody>\n",
       "    <tr>\n",
       "      <th>0</th>\n",
       "      <td>0.996121</td>\n",
       "      <td>0.003879</td>\n",
       "    </tr>\n",
       "    <tr>\n",
       "      <th>1</th>\n",
       "      <td>0.588338</td>\n",
       "      <td>0.411662</td>\n",
       "    </tr>\n",
       "    <tr>\n",
       "      <th>2</th>\n",
       "      <td>0.955957</td>\n",
       "      <td>0.044043</td>\n",
       "    </tr>\n",
       "    <tr>\n",
       "      <th>3</th>\n",
       "      <td>0.451167</td>\n",
       "      <td>0.548833</td>\n",
       "    </tr>\n",
       "    <tr>\n",
       "      <th>4</th>\n",
       "      <td>0.681965</td>\n",
       "      <td>0.318035</td>\n",
       "    </tr>\n",
       "    <tr>\n",
       "      <th>...</th>\n",
       "      <td>...</td>\n",
       "      <td>...</td>\n",
       "    </tr>\n",
       "    <tr>\n",
       "      <th>520</th>\n",
       "      <td>0.894002</td>\n",
       "      <td>0.105998</td>\n",
       "    </tr>\n",
       "    <tr>\n",
       "      <th>521</th>\n",
       "      <td>0.480223</td>\n",
       "      <td>0.519777</td>\n",
       "    </tr>\n",
       "    <tr>\n",
       "      <th>522</th>\n",
       "      <td>0.778908</td>\n",
       "      <td>0.221092</td>\n",
       "    </tr>\n",
       "    <tr>\n",
       "      <th>523</th>\n",
       "      <td>0.867427</td>\n",
       "      <td>0.132573</td>\n",
       "    </tr>\n",
       "    <tr>\n",
       "      <th>524</th>\n",
       "      <td>0.173512</td>\n",
       "      <td>0.826488</td>\n",
       "    </tr>\n",
       "  </tbody>\n",
       "</table>\n",
       "<p>525 rows × 2 columns</p>\n",
       "</div>"
      ],
      "text/plain": [
       "       prob_0    prob_1\n",
       "0    0.996121  0.003879\n",
       "1    0.588338  0.411662\n",
       "2    0.955957  0.044043\n",
       "3    0.451167  0.548833\n",
       "4    0.681965  0.318035\n",
       "..        ...       ...\n",
       "520  0.894002  0.105998\n",
       "521  0.480223  0.519777\n",
       "522  0.778908  0.221092\n",
       "523  0.867427  0.132573\n",
       "524  0.173512  0.826488\n",
       "\n",
       "[525 rows x 2 columns]"
      ]
     },
     "execution_count": 36,
     "metadata": {},
     "output_type": "execute_result"
    }
   ],
   "source": [
    "pd.DataFrame(log.predict_proba(x_train),columns = [\"prob_0\",\"prob_1\"])"
   ]
  },
  {
   "cell_type": "code",
   "execution_count": 37,
   "id": "9fe98ce9",
   "metadata": {},
   "outputs": [],
   "source": [
    "x_train1= x_train.copy()"
   ]
  },
  {
   "cell_type": "code",
   "execution_count": 38,
   "id": "3e7c749f",
   "metadata": {},
   "outputs": [],
   "source": [
    "x_train1[\"Actual_Default\"]= y_train\n",
    "x_train1[\"Prob_Default\"]= log.predict_proba(x_train)[:,1]"
   ]
  },
  {
   "cell_type": "code",
   "execution_count": 39,
   "id": "4f9ed2b6",
   "metadata": {},
   "outputs": [
    {
     "data": {
      "text/html": [
       "<div>\n",
       "<style scoped>\n",
       "    .dataframe tbody tr th:only-of-type {\n",
       "        vertical-align: middle;\n",
       "    }\n",
       "\n",
       "    .dataframe tbody tr th {\n",
       "        vertical-align: top;\n",
       "    }\n",
       "\n",
       "    .dataframe thead th {\n",
       "        text-align: right;\n",
       "    }\n",
       "</style>\n",
       "<table border=\"1\" class=\"dataframe\">\n",
       "  <thead>\n",
       "    <tr style=\"text-align: right;\">\n",
       "      <th></th>\n",
       "      <th>age</th>\n",
       "      <th>ed</th>\n",
       "      <th>employ</th>\n",
       "      <th>address</th>\n",
       "      <th>income</th>\n",
       "      <th>debtinc</th>\n",
       "      <th>creddebt</th>\n",
       "      <th>othdebt</th>\n",
       "      <th>Actual_Default</th>\n",
       "      <th>Prob_Default</th>\n",
       "    </tr>\n",
       "  </thead>\n",
       "  <tbody>\n",
       "    <tr>\n",
       "      <th>342</th>\n",
       "      <td>39.0</td>\n",
       "      <td>2.0</td>\n",
       "      <td>15.0</td>\n",
       "      <td>19.0</td>\n",
       "      <td>32.0</td>\n",
       "      <td>4.9</td>\n",
       "      <td>0.421792</td>\n",
       "      <td>1.146208</td>\n",
       "      <td>0</td>\n",
       "      <td>0.003879</td>\n",
       "    </tr>\n",
       "    <tr>\n",
       "      <th>620</th>\n",
       "      <td>25.0</td>\n",
       "      <td>1.0</td>\n",
       "      <td>1.0</td>\n",
       "      <td>1.0</td>\n",
       "      <td>19.0</td>\n",
       "      <td>6.9</td>\n",
       "      <td>0.190095</td>\n",
       "      <td>1.120905</td>\n",
       "      <td>0</td>\n",
       "      <td>0.411662</td>\n",
       "    </tr>\n",
       "    <tr>\n",
       "      <th>178</th>\n",
       "      <td>37.0</td>\n",
       "      <td>1.0</td>\n",
       "      <td>13.0</td>\n",
       "      <td>5.0</td>\n",
       "      <td>24.0</td>\n",
       "      <td>8.9</td>\n",
       "      <td>0.602352</td>\n",
       "      <td>1.533648</td>\n",
       "      <td>0</td>\n",
       "      <td>0.044043</td>\n",
       "    </tr>\n",
       "    <tr>\n",
       "      <th>123</th>\n",
       "      <td>31.0</td>\n",
       "      <td>1.0</td>\n",
       "      <td>2.0</td>\n",
       "      <td>4.0</td>\n",
       "      <td>22.0</td>\n",
       "      <td>12.7</td>\n",
       "      <td>1.092454</td>\n",
       "      <td>1.701546</td>\n",
       "      <td>1</td>\n",
       "      <td>0.548833</td>\n",
       "    </tr>\n",
       "    <tr>\n",
       "      <th>582</th>\n",
       "      <td>36.0</td>\n",
       "      <td>1.0</td>\n",
       "      <td>9.0</td>\n",
       "      <td>1.0</td>\n",
       "      <td>40.0</td>\n",
       "      <td>9.8</td>\n",
       "      <td>1.975680</td>\n",
       "      <td>1.944320</td>\n",
       "      <td>0</td>\n",
       "      <td>0.318035</td>\n",
       "    </tr>\n",
       "    <tr>\n",
       "      <th>...</th>\n",
       "      <td>...</td>\n",
       "      <td>...</td>\n",
       "      <td>...</td>\n",
       "      <td>...</td>\n",
       "      <td>...</td>\n",
       "      <td>...</td>\n",
       "      <td>...</td>\n",
       "      <td>...</td>\n",
       "      <td>...</td>\n",
       "      <td>...</td>\n",
       "    </tr>\n",
       "    <tr>\n",
       "      <th>56</th>\n",
       "      <td>35.0</td>\n",
       "      <td>1.0</td>\n",
       "      <td>9.0</td>\n",
       "      <td>1.0</td>\n",
       "      <td>34.0</td>\n",
       "      <td>5.0</td>\n",
       "      <td>0.397800</td>\n",
       "      <td>1.302200</td>\n",
       "      <td>0</td>\n",
       "      <td>0.105998</td>\n",
       "    </tr>\n",
       "    <tr>\n",
       "      <th>501</th>\n",
       "      <td>35.0</td>\n",
       "      <td>2.0</td>\n",
       "      <td>3.0</td>\n",
       "      <td>11.0</td>\n",
       "      <td>40.0</td>\n",
       "      <td>17.2</td>\n",
       "      <td>1.802560</td>\n",
       "      <td>5.077440</td>\n",
       "      <td>1</td>\n",
       "      <td>0.519777</td>\n",
       "    </tr>\n",
       "    <tr>\n",
       "      <th>638</th>\n",
       "      <td>41.0</td>\n",
       "      <td>2.0</td>\n",
       "      <td>6.0</td>\n",
       "      <td>1.0</td>\n",
       "      <td>19.0</td>\n",
       "      <td>6.3</td>\n",
       "      <td>0.124488</td>\n",
       "      <td>1.072512</td>\n",
       "      <td>0</td>\n",
       "      <td>0.221092</td>\n",
       "    </tr>\n",
       "    <tr>\n",
       "      <th>348</th>\n",
       "      <td>29.0</td>\n",
       "      <td>2.0</td>\n",
       "      <td>3.0</td>\n",
       "      <td>8.0</td>\n",
       "      <td>15.0</td>\n",
       "      <td>2.6</td>\n",
       "      <td>0.146640</td>\n",
       "      <td>0.243360</td>\n",
       "      <td>0</td>\n",
       "      <td>0.132573</td>\n",
       "    </tr>\n",
       "    <tr>\n",
       "      <th>382</th>\n",
       "      <td>39.0</td>\n",
       "      <td>2.0</td>\n",
       "      <td>2.0</td>\n",
       "      <td>12.0</td>\n",
       "      <td>46.0</td>\n",
       "      <td>16.0</td>\n",
       "      <td>4.003840</td>\n",
       "      <td>3.356160</td>\n",
       "      <td>1</td>\n",
       "      <td>0.826488</td>\n",
       "    </tr>\n",
       "  </tbody>\n",
       "</table>\n",
       "<p>525 rows × 10 columns</p>\n",
       "</div>"
      ],
      "text/plain": [
       "      age   ed  employ  address  income  debtinc  creddebt   othdebt  \\\n",
       "342  39.0  2.0    15.0     19.0    32.0      4.9  0.421792  1.146208   \n",
       "620  25.0  1.0     1.0      1.0    19.0      6.9  0.190095  1.120905   \n",
       "178  37.0  1.0    13.0      5.0    24.0      8.9  0.602352  1.533648   \n",
       "123  31.0  1.0     2.0      4.0    22.0     12.7  1.092454  1.701546   \n",
       "582  36.0  1.0     9.0      1.0    40.0      9.8  1.975680  1.944320   \n",
       "..    ...  ...     ...      ...     ...      ...       ...       ...   \n",
       "56   35.0  1.0     9.0      1.0    34.0      5.0  0.397800  1.302200   \n",
       "501  35.0  2.0     3.0     11.0    40.0     17.2  1.802560  5.077440   \n",
       "638  41.0  2.0     6.0      1.0    19.0      6.3  0.124488  1.072512   \n",
       "348  29.0  2.0     3.0      8.0    15.0      2.6  0.146640  0.243360   \n",
       "382  39.0  2.0     2.0     12.0    46.0     16.0  4.003840  3.356160   \n",
       "\n",
       "     Actual_Default  Prob_Default  \n",
       "342               0      0.003879  \n",
       "620               0      0.411662  \n",
       "178               0      0.044043  \n",
       "123               1      0.548833  \n",
       "582               0      0.318035  \n",
       "..              ...           ...  \n",
       "56                0      0.105998  \n",
       "501               1      0.519777  \n",
       "638               0      0.221092  \n",
       "348               0      0.132573  \n",
       "382               1      0.826488  \n",
       "\n",
       "[525 rows x 10 columns]"
      ]
     },
     "execution_count": 39,
     "metadata": {},
     "output_type": "execute_result"
    }
   ],
   "source": [
    "x_train1"
   ]
  },
  {
   "cell_type": "code",
   "execution_count": 40,
   "id": "2745123d",
   "metadata": {},
   "outputs": [],
   "source": [
    "\n",
    "def profile_decile(X,y,trained_model):\n",
    "    X_1=X.copy()\n",
    "    y_1=y.copy()\n",
    "    y_pred1=trained_model.predict(X_1)\n",
    "    X_1[\"Prob_Event\"]=trained_model.predict_proba(X_1)[:,1]\n",
    "    X_1[\"Y_actual\"]=y_1\n",
    "    X_1[\"Y_pred\"]=y_pred1\n",
    "    X_1[\"Rank\"]=pd.qcut(X_1[\"Prob_Event\"], 10, labels=np.arange(0,10,1)) #qcut is that it is making decile \n",
    "    X_1[\"numb\"]=10\n",
    "    X_1[\"Decile\"]=X_1[\"numb\"]-X_1[\"Rank\"].astype(\"int\")\n",
    "    \n",
    "    profile=pd.DataFrame(X_1.groupby(\"Decile\") \\\n",
    "                        .apply(lambda x: pd.Series({\n",
    "        'min_score'   : x[\"Prob_Event\"].min(),\n",
    "        'max_score'   : x[\"Prob_Event\"].max(),\n",
    "        'Event'       : x[\"Y_actual\"].sum(),\n",
    "        'Non_event'   : x[\"Y_actual\"].count()-x[\"Y_actual\"].sum(),\n",
    "        'Total'       : x[\"Y_actual\"].count() })))\n",
    "    return profile"
   ]
  },
  {
   "cell_type": "code",
   "execution_count": 41,
   "id": "4733f7c0",
   "metadata": {},
   "outputs": [],
   "source": [
    "test_profile=profile_decile(x_test,y_test,log)"
   ]
  },
  {
   "cell_type": "code",
   "execution_count": 42,
   "id": "cd636587",
   "metadata": {},
   "outputs": [],
   "source": [
    "test_profile.to_excel('test_profile.xlsx')"
   ]
  },
  {
   "cell_type": "code",
   "execution_count": 43,
   "id": "5c55ed01",
   "metadata": {},
   "outputs": [],
   "source": [
    "train_profile = profile_decile(x_train,y_train,log)"
   ]
  },
  {
   "cell_type": "code",
   "execution_count": 44,
   "id": "340c2557",
   "metadata": {},
   "outputs": [],
   "source": [
    "train_profile.to_excel('train_profile.xlsx')"
   ]
  },
  {
   "cell_type": "code",
   "execution_count": 45,
   "id": "c273cd7b",
   "metadata": {},
   "outputs": [],
   "source": [
    "import os "
   ]
  },
  {
   "cell_type": "code",
   "execution_count": 46,
   "id": "19ddce61",
   "metadata": {},
   "outputs": [
    {
     "data": {
      "text/plain": [
       "'C:\\\\Users\\\\Nikita\\\\purshotam sir machine learning'"
      ]
     },
     "execution_count": 46,
     "metadata": {},
     "output_type": "execute_result"
    }
   ],
   "source": [
    "os.getcwd()"
   ]
  },
  {
   "cell_type": "code",
   "execution_count": 47,
   "id": "e4fb2ac0",
   "metadata": {},
   "outputs": [],
   "source": [
    "newtrain_pred= np.where(log.predict_proba(x_train)[:,1]>0.258825623540294 ,1,0)"
   ]
  },
  {
   "cell_type": "code",
   "execution_count": 48,
   "id": "9493b6c2",
   "metadata": {},
   "outputs": [
    {
     "data": {
      "text/html": [
       "<div>\n",
       "<style scoped>\n",
       "    .dataframe tbody tr th:only-of-type {\n",
       "        vertical-align: middle;\n",
       "    }\n",
       "\n",
       "    .dataframe tbody tr th {\n",
       "        vertical-align: top;\n",
       "    }\n",
       "\n",
       "    .dataframe thead th {\n",
       "        text-align: right;\n",
       "    }\n",
       "</style>\n",
       "<table border=\"1\" class=\"dataframe\">\n",
       "  <thead>\n",
       "    <tr style=\"text-align: right;\">\n",
       "      <th></th>\n",
       "      <th>Pred_0</th>\n",
       "      <th>Pred_1</th>\n",
       "    </tr>\n",
       "  </thead>\n",
       "  <tbody>\n",
       "    <tr>\n",
       "      <th>act_0</th>\n",
       "      <td>288</td>\n",
       "      <td>98</td>\n",
       "    </tr>\n",
       "    <tr>\n",
       "      <th>act_1</th>\n",
       "      <td>27</td>\n",
       "      <td>112</td>\n",
       "    </tr>\n",
       "  </tbody>\n",
       "</table>\n",
       "</div>"
      ],
      "text/plain": [
       "       Pred_0  Pred_1\n",
       "act_0     288      98\n",
       "act_1      27     112"
      ]
     },
     "execution_count": 48,
     "metadata": {},
     "output_type": "execute_result"
    }
   ],
   "source": [
    "cnfNew=pd.DataFrame(metrics.confusion_matrix(y_train , newtrain_pred), columns=[\"Pred_0\", \"Pred_1\"],\n",
    "                index=[\"act_0\", \"act_1\"])\n",
    "cnfNew"
   ]
  },
  {
   "cell_type": "code",
   "execution_count": 49,
   "id": "874cf2e6",
   "metadata": {},
   "outputs": [
    {
     "name": "stdout",
     "output_type": "stream",
     "text": [
      "              precision    recall  f1-score   support\n",
      "\n",
      "           0       0.91      0.75      0.82       386\n",
      "           1       0.53      0.81      0.64       139\n",
      "\n",
      "    accuracy                           0.76       525\n",
      "   macro avg       0.72      0.78      0.73       525\n",
      "weighted avg       0.81      0.76      0.77       525\n",
      "\n"
     ]
    }
   ],
   "source": [
    "print(metrics.classification_report(y_train, newtrain_pred))"
   ]
  },
  {
   "cell_type": "code",
   "execution_count": 50,
   "id": "0b4a73ab",
   "metadata": {},
   "outputs": [
    {
     "data": {
      "image/png": "[encoded data removed]",
      "text/plain": [
       "<Figure size 432x288 with 1 Axes>"
      ]
     },
     "metadata": {
      "needs_background": "light"
     },
     "output_type": "display_data"
    }
   ],
   "source": [
    "# Reciever Operating Characterestics \n",
    "\n",
    "probs=log.predict_proba(x_train)[:,1]\n",
    "\n",
    "fpr, tpr, threshold=metrics.roc_curve(y_train,probs )\n",
    "plt.plot([0,1],[0,1],'k--')\n",
    "plt.plot(fpr,tpr, label='logistic')\n",
    "plt.xlabel('fpr')\n",
    "plt.ylabel('tpr')\n",
    "plt.show()"
   ]
  },
  {
   "cell_type": "code",
   "execution_count": 51,
   "id": "81ea79c4",
   "metadata": {},
   "outputs": [
    {
     "data": {
      "text/plain": [
       "0.8551272971260298"
      ]
     },
     "execution_count": 51,
     "metadata": {},
     "output_type": "execute_result"
    }
   ],
   "source": [
    "metrics.roc_auc_score(y_train,probs) # AUC Area Under the Curve "
   ]
  },
  {
   "cell_type": "code",
   "execution_count": 56,
   "id": "841b1e8a",
   "metadata": {},
   "outputs": [
    {
     "ename": "SyntaxError",
     "evalue": "(unicode error) 'unicodeescape' codec can't decode bytes in position 2-3: truncated \\UXXXXXXXX escape (Temp/ipykernel_50656/1596257746.py, line 1)",
     "output_type": "error",
     "traceback": [
      "\u001b[1;36m  File \u001b[1;32m\"C:\\Users\\Nikita\\AppData\\Local\\Temp/ipykernel_50656/1596257746.py\"\u001b[1;36m, line \u001b[1;32m1\u001b[0m\n\u001b[1;33m    new=pd.read_excel(\"C:\\Users\\Nikita\\Downloads\\Train_RiskScore.xlsx\")\u001b[0m\n\u001b[1;37m                                                                      ^\u001b[0m\n\u001b[1;31mSyntaxError\u001b[0m\u001b[1;31m:\u001b[0m (unicode error) 'unicodeescape' codec can't decode bytes in position 2-3: truncated \\UXXXXXXXX escape\n"
     ]
    }
   ],
   "source": [
    "new=pd.read_excel(\"C:\\Users\\Nikita\\Downloads\\Train_RiskScore.xlsx\")"
   ]
  },
  {
   "cell_type": "code",
   "execution_count": 54,
   "id": "6df279c5",
   "metadata": {},
   "outputs": [
    {
     "ename": "NameError",
     "evalue": "name 'new' is not defined",
     "output_type": "error",
     "traceback": [
      "\u001b[1;31m---------------------------------------------------------------------------\u001b[0m",
      "\u001b[1;31mNameError\u001b[0m                                 Traceback (most recent call last)",
      "\u001b[1;32m~\\AppData\\Local\\Temp/ipykernel_50656/385669620.py\u001b[0m in \u001b[0;36m<module>\u001b[1;34m\u001b[0m\n\u001b[1;32m----> 1\u001b[1;33m \u001b[0mnew\u001b[0m\u001b[1;33m.\u001b[0m\u001b[0mdrop\u001b[0m\u001b[1;33m(\u001b[0m\u001b[0mcolumns\u001b[0m\u001b[1;33m=\u001b[0m\u001b[1;33m[\u001b[0m\u001b[1;34m\"ID\"\u001b[0m\u001b[1;33m]\u001b[0m\u001b[1;33m,\u001b[0m\u001b[0minplace\u001b[0m\u001b[1;33m=\u001b[0m\u001b[1;32mTrue\u001b[0m\u001b[1;33m)\u001b[0m\u001b[1;33m\u001b[0m\u001b[1;33m\u001b[0m\u001b[0m\n\u001b[0m",
      "\u001b[1;31mNameError\u001b[0m: name 'new' is not defined"
     ]
    }
   ],
   "source": [
    "new.drop(columns=[\"ID\"],inplace=True)"
   ]
  },
  {
   "cell_type": "code",
   "execution_count": null,
   "id": "d4ffd97d",
   "metadata": {},
   "outputs": [],
   "source": [
    "log.predict_proba(new)[:,1]"
   ]
  }
 ],
 "metadata": {
  "kernelspec": {
   "display_name": "Python 3 (ipykernel)",
   "language": "python",
   "name": "python3"
  },
  "language_info": {
   "codemirror_mode": {
    "name": "ipython",
    "version": 3
   },
   "file_extension": ".py",
   "mimetype": "text/x-python",
   "name": "python",
   "nbconvert_exporter": "python",
   "pygments_lexer": "ipython3",
   "version": "3.9.7"
  }
 },
 "nbformat": 4,
 "nbformat_minor": 5
}
